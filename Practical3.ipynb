{
 "cells": [
  {
   "cell_type": "code",
   "execution_count": 1,
   "id": "0601b1a8-6b52-4e58-8212-68667156ab42",
   "metadata": {},
   "outputs": [],
   "source": [
    "import numpy as np\n",
    "import pandas as pd\n",
    "from matplotlib import pyplot as plt"
   ]
  },
  {
   "cell_type": "code",
   "execution_count": 2,
   "id": "4ff23b53-48f0-40f3-98ce-22b573c1cf24",
   "metadata": {},
   "outputs": [
    {
     "data": {
      "text/html": [
       "<div>\n",
       "<style scoped>\n",
       "    .dataframe tbody tr th:only-of-type {\n",
       "        vertical-align: middle;\n",
       "    }\n",
       "\n",
       "    .dataframe tbody tr th {\n",
       "        vertical-align: top;\n",
       "    }\n",
       "\n",
       "    .dataframe thead th {\n",
       "        text-align: right;\n",
       "    }\n",
       "</style>\n",
       "<table border=\"1\" class=\"dataframe\">\n",
       "  <thead>\n",
       "    <tr style=\"text-align: right;\">\n",
       "      <th></th>\n",
       "      <th>Timestamp</th>\n",
       "      <th>Eno</th>\n",
       "      <th>Name</th>\n",
       "      <th>Gender</th>\n",
       "      <th>Phone numbers</th>\n",
       "      <th>City</th>\n",
       "      <th>Marks11</th>\n",
       "      <th>Marks12</th>\n",
       "      <th>Marks13</th>\n",
       "      <th>Marks14</th>\n",
       "      <th>...</th>\n",
       "      <th>Marks31</th>\n",
       "      <th>Marks32</th>\n",
       "      <th>Marks33</th>\n",
       "      <th>Marks34</th>\n",
       "      <th>Marks35</th>\n",
       "      <th>Marks41</th>\n",
       "      <th>Marks42</th>\n",
       "      <th>Marks43</th>\n",
       "      <th>Marks44</th>\n",
       "      <th>Marks45</th>\n",
       "    </tr>\n",
       "  </thead>\n",
       "  <tbody>\n",
       "    <tr>\n",
       "      <th>0</th>\n",
       "      <td>2024/01/02 11:46:29 AM GMT+5:30</td>\n",
       "      <td>1.210000e+13</td>\n",
       "      <td>Rishi Shah</td>\n",
       "      <td>Male</td>\n",
       "      <td>9023080466</td>\n",
       "      <td>Anand</td>\n",
       "      <td>10</td>\n",
       "      <td>10.0</td>\n",
       "      <td>10.0</td>\n",
       "      <td>10</td>\n",
       "      <td>...</td>\n",
       "      <td>10</td>\n",
       "      <td>10</td>\n",
       "      <td>10.0</td>\n",
       "      <td>10.0</td>\n",
       "      <td>10</td>\n",
       "      <td>10</td>\n",
       "      <td>10</td>\n",
       "      <td>10.0</td>\n",
       "      <td>10.0</td>\n",
       "      <td>10</td>\n",
       "    </tr>\n",
       "    <tr>\n",
       "      <th>1</th>\n",
       "      <td>2024/01/02 11:46:34 AM GMT+5:30</td>\n",
       "      <td>1.210000e+13</td>\n",
       "      <td>Nehal Mistry</td>\n",
       "      <td>Male</td>\n",
       "      <td>7069003088</td>\n",
       "      <td>Gandhinagar</td>\n",
       "      <td>9</td>\n",
       "      <td>8.0</td>\n",
       "      <td>9.0</td>\n",
       "      <td>8</td>\n",
       "      <td>...</td>\n",
       "      <td>9</td>\n",
       "      <td>8</td>\n",
       "      <td>9.0</td>\n",
       "      <td>8.0</td>\n",
       "      <td>9</td>\n",
       "      <td>8</td>\n",
       "      <td>9</td>\n",
       "      <td>8.0</td>\n",
       "      <td>9.0</td>\n",
       "      <td>8</td>\n",
       "    </tr>\n",
       "    <tr>\n",
       "      <th>2</th>\n",
       "      <td>2024/01/02 11:47:10 AM GMT+5:30</td>\n",
       "      <td>1.210000e+13</td>\n",
       "      <td>Metaliya Umang Jaydevbhai</td>\n",
       "      <td>Male</td>\n",
       "      <td>7984828389</td>\n",
       "      <td>Anand</td>\n",
       "      <td>7</td>\n",
       "      <td>9.0</td>\n",
       "      <td>8.0</td>\n",
       "      <td>6</td>\n",
       "      <td>...</td>\n",
       "      <td>9</td>\n",
       "      <td>8</td>\n",
       "      <td>7.0</td>\n",
       "      <td>8.0</td>\n",
       "      <td>6</td>\n",
       "      <td>9</td>\n",
       "      <td>8</td>\n",
       "      <td>7.0</td>\n",
       "      <td>8.0</td>\n",
       "      <td>9</td>\n",
       "    </tr>\n",
       "    <tr>\n",
       "      <th>3</th>\n",
       "      <td>2024/01/02 11:47:15 AM GMT+5:30</td>\n",
       "      <td>1.210000e+13</td>\n",
       "      <td>Shaad Shaikh</td>\n",
       "      <td>Male</td>\n",
       "      <td>9429468301</td>\n",
       "      <td>Anand</td>\n",
       "      <td>9</td>\n",
       "      <td>8.0</td>\n",
       "      <td>9.0</td>\n",
       "      <td>10</td>\n",
       "      <td>...</td>\n",
       "      <td>7</td>\n",
       "      <td>8</td>\n",
       "      <td>9.0</td>\n",
       "      <td>7.0</td>\n",
       "      <td>9</td>\n",
       "      <td>8</td>\n",
       "      <td>7</td>\n",
       "      <td>10.0</td>\n",
       "      <td>9.0</td>\n",
       "      <td>8</td>\n",
       "    </tr>\n",
       "    <tr>\n",
       "      <th>4</th>\n",
       "      <td>2024/01/02 11:47:17 AM GMT+5:30</td>\n",
       "      <td>1.210000e+13</td>\n",
       "      <td>Moksh Parikh</td>\n",
       "      <td>Male</td>\n",
       "      <td>7984785177</td>\n",
       "      <td>Anand</td>\n",
       "      <td>8</td>\n",
       "      <td>9.0</td>\n",
       "      <td>7.0</td>\n",
       "      <td>9</td>\n",
       "      <td>...</td>\n",
       "      <td>7</td>\n",
       "      <td>6</td>\n",
       "      <td>7.0</td>\n",
       "      <td>8.0</td>\n",
       "      <td>8</td>\n",
       "      <td>9</td>\n",
       "      <td>7</td>\n",
       "      <td>8.0</td>\n",
       "      <td>9.0</td>\n",
       "      <td>5</td>\n",
       "    </tr>\n",
       "  </tbody>\n",
       "</table>\n",
       "<p>5 rows × 26 columns</p>\n",
       "</div>"
      ],
      "text/plain": [
       "                         Timestamp           Eno                        Name  \\\n",
       "0  2024/01/02 11:46:29 AM GMT+5:30  1.210000e+13                  Rishi Shah   \n",
       "1  2024/01/02 11:46:34 AM GMT+5:30  1.210000e+13                Nehal Mistry   \n",
       "2  2024/01/02 11:47:10 AM GMT+5:30  1.210000e+13  Metaliya Umang Jaydevbhai    \n",
       "3  2024/01/02 11:47:15 AM GMT+5:30  1.210000e+13                Shaad Shaikh   \n",
       "4  2024/01/02 11:47:17 AM GMT+5:30  1.210000e+13                Moksh Parikh   \n",
       "\n",
       "  Gender  Phone numbers         City  Marks11  Marks12  Marks13  Marks14  ...  \\\n",
       "0   Male     9023080466        Anand       10     10.0     10.0       10  ...   \n",
       "1   Male     7069003088  Gandhinagar        9      8.0      9.0        8  ...   \n",
       "2   Male     7984828389        Anand        7      9.0      8.0        6  ...   \n",
       "3   Male     9429468301        Anand        9      8.0      9.0       10  ...   \n",
       "4   Male     7984785177        Anand        8      9.0      7.0        9  ...   \n",
       "\n",
       "   Marks31  Marks32  Marks33  Marks34  Marks35  Marks41 Marks42  Marks43  \\\n",
       "0       10       10     10.0     10.0       10       10      10     10.0   \n",
       "1        9        8      9.0      8.0        9        8       9      8.0   \n",
       "2        9        8      7.0      8.0        6        9       8      7.0   \n",
       "3        7        8      9.0      7.0        9        8       7     10.0   \n",
       "4        7        6      7.0      8.0        8        9       7      8.0   \n",
       "\n",
       "   Marks44  Marks45  \n",
       "0     10.0       10  \n",
       "1      9.0        8  \n",
       "2      8.0        9  \n",
       "3      9.0        8  \n",
       "4      9.0        5  \n",
       "\n",
       "[5 rows x 26 columns]"
      ]
     },
     "execution_count": 2,
     "metadata": {},
     "output_type": "execute_result"
    }
   ],
   "source": [
    "data = pd.read_csv(\"./Dataset/student_dataset.csv\")\n",
    "data.head()"
   ]
  },
  {
   "cell_type": "code",
   "execution_count": 3,
   "id": "0db3fad8-e115-4724-be06-96a7583765d6",
   "metadata": {},
   "outputs": [
    {
     "data": {
      "text/plain": [
       "8.493658536585366"
      ]
     },
     "execution_count": 3,
     "metadata": {},
     "output_type": "execute_result"
    }
   ],
   "source": [
    "data['Semester1'] = data[['Marks11', 'Marks12', 'Marks13', 'Marks14','Marks15']].mean(axis=1)\n",
    "data['Semester1'].mean()"
   ]
  },
  {
   "cell_type": "code",
   "execution_count": 4,
   "id": "835e025c-f323-4db1-b567-88e07dca0e00",
   "metadata": {},
   "outputs": [
    {
     "data": {
      "text/plain": [
       "8.375121951219512"
      ]
     },
     "execution_count": 4,
     "metadata": {},
     "output_type": "execute_result"
    }
   ],
   "source": [
    "data['Semester2'] = data[['Marks21', 'Marks22', 'Marks23', 'Marks24', 'Marks25']].mean(axis=1)\n",
    "data['Semester2'].mean()"
   ]
  },
  {
   "cell_type": "code",
   "execution_count": 5,
   "id": "55b6c8e0-11c0-411a-8694-528c3b28ff6a",
   "metadata": {},
   "outputs": [
    {
     "name": "stderr",
     "output_type": "stream",
     "text": [
      "C:\\Users\\Ayush\\AppData\\Local\\Temp\\ipykernel_7252\\1344952950.py:1: FutureWarning: Dropping of nuisance columns in DataFrame reductions (with 'numeric_only=None') is deprecated; in a future version this will raise TypeError.  Select only valid columns before calling the reduction.\n",
      "  data['Semester3'] = data[['Marks31', 'Marks32', 'Marks33', 'Marks34', 'Marks35']].mean(axis=1)\n"
     ]
    },
    {
     "data": {
      "text/plain": [
       "8.393902439024389"
      ]
     },
     "execution_count": 5,
     "metadata": {},
     "output_type": "execute_result"
    }
   ],
   "source": [
    "data['Semester3'] = data[['Marks31', 'Marks32', 'Marks33', 'Marks34', 'Marks35']].mean(axis=1)\n",
    "data['Semester3'].mean()"
   ]
  },
  {
   "cell_type": "code",
   "execution_count": 6,
   "id": "b15ade5d-482d-481d-a0b9-270b3bd038a5",
   "metadata": {},
   "outputs": [
    {
     "data": {
      "text/plain": [
       "8.450731707317072"
      ]
     },
     "execution_count": 6,
     "metadata": {},
     "output_type": "execute_result"
    }
   ],
   "source": [
    "data['Semester4'] = data[['Marks41', 'Marks42', 'Marks43', 'Marks44', 'Marks45']].mean(axis=1)\n",
    "data['Semester4'].mean()"
   ]
  },
  {
   "cell_type": "code",
   "execution_count": 7,
   "id": "36e80245-21c0-402a-b863-f25205848f2e",
   "metadata": {},
   "outputs": [
    {
     "data": {
      "image/png": "[encoded data removed]",
      "text/plain": [
       "<Figure size 640x480 with 1 Axes>"
      ]
     },
     "metadata": {},
     "output_type": "display_data"
    }
   ],
   "source": [
    "plt.bar(['Semester1','Semester2','Semester3','Semester4'], [data['Semester1'].mean(), data['Semester2'].mean(), data['Semester3'].mean(), data['Semester4'].mean()] )\n",
    "plt.xlabel('Semesters')\n",
    "\n",
    "plt.ylabel('Average marks')\n",
    "plt.title('Avg. marks of students in each semester')\n",
    "plt.show()"
   ]
  },
  {
   "cell_type": "code",
   "execution_count": null,
   "id": "6cda17fe-76f4-4f8d-ac6a-607de28dd2f0",
   "metadata": {},
   "outputs": [],
   "source": []
  }
 ],
 "metadata": {
  "kernelspec": {
   "display_name": "Python 3 (ipykernel)",
   "language": "python",
   "name": "python3"
  }
 },
 "nbformat": 4,
 "nbformat_minor": 5
}
